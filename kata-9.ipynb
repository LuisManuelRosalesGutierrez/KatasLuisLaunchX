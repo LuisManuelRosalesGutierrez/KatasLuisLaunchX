{
 "cells": [
  {
   "cell_type": "markdown",
   "metadata": {},
   "source": [
    "# Kata 9 Uso de funciones en Python\n",
    "# Ejercicio 1: Trabajar con argumentos en funciones\n",
    "Comienza por crear una función que necesite tres lecturas de combustible y devuelva un informe:"
   ]
  },
  {
   "cell_type": "code",
   "execution_count": 71,
   "metadata": {},
   "outputs": [
    {
     "name": "stdout",
     "output_type": "stream",
     "text": [
      " informe de datos:\n",
      "    Contenido del combustible 1 = 1 \n",
      "    Contenido del combustible 2 = 1\n",
      "    Contenido del combustible 3 = 1\n",
      "    Promedio de los combustibles = 1.0 \n",
      "    \n"
     ]
    }
   ],
   "source": [
    "def informe(comb1, comb2, comb3):\n",
    "    prom = (comb1 + comb2 + comb3)/3\n",
    "    return f\"\"\" informe de datos:\n",
    "    Contenido del combustible 1 = {comb1} \n",
    "    Contenido del combustible 2 = {comb2}\n",
    "    Contenido del combustible 3 = {comb3}\n",
    "    Promedio de los combustibles = {prom} \n",
    "    \"\"\"\n",
    "print(informe(1,1,1))"
   ]
  },
  {
   "cell_type": "markdown",
   "metadata": {},
   "source": [
    "Ahora que hemos definido la función de informes, vamos a comprobarlo. Para esta misión, los tanques no están llenos:"
   ]
  },
  {
   "cell_type": "code",
   "execution_count": 65,
   "metadata": {},
   "outputs": [
    {
     "name": "stdout",
     "output_type": "stream",
     "text": [
      " informe de datos:\n",
      "    Contenido del combustible 1 = 0 \n",
      "    Contenido del combustible 2 = 0\n",
      "    Contenido del combustible 3 = 0\n",
      "    Promedio de los combustibles = 0.0 \n",
      "    \n"
     ]
    }
   ],
   "source": [
    "print(informe(0,0,0))"
   ]
  },
  {
   "cell_type": "markdown",
   "metadata": {},
   "source": [
    "En lugar de simplemente crear el informe, la función también está calculando el promedio. Mejora la legibilidad extrayendo el cálculo promedio de la función en una nueva función para que el promedio se pueda hacer de forma independiente:"
   ]
  },
  {
   "cell_type": "code",
   "execution_count": 66,
   "metadata": {},
   "outputs": [],
   "source": [
    "def promedio(*args):\n",
    "    return (sum(args)/len(args))"
   ]
  },
  {
   "cell_type": "markdown",
   "metadata": {},
   "source": [
    "Ahora actualiza la función de informes para llamando a la nueva función del promedio:"
   ]
  },
  {
   "cell_type": "code",
   "execution_count": 70,
   "metadata": {},
   "outputs": [
    {
     "name": "stdout",
     "output_type": "stream",
     "text": [
      " informe de datos:\n",
      "    Contenido del combustible 1 = 1 \n",
      "    Contenido del combustible 2 = 1\n",
      "    Contenido del combustible 3 = 10\n",
      "    Promedio de los combustibles = 4.0\n",
      "    \n"
     ]
    }
   ],
   "source": [
    "def informe2(comb1, comb2, comb3):\n",
    "    return f\"\"\" informe de datos:\n",
    "    Contenido del combustible 1 = {comb1} \n",
    "    Contenido del combustible 2 = {comb2}\n",
    "    Contenido del combustible 3 = {comb3}\n",
    "    Promedio de los combustibles = {promedio(comb1,comb2,comb3)}\n",
    "    \"\"\"\n",
    "print(informe2(1,1,10))"
   ]
  },
  {
   "cell_type": "markdown",
   "metadata": {},
   "source": [
    "# Ejercicio 2: Trabajo con argumentos de palabra clave\n",
    "En este ejercicio, construirás un informe de cohete que requiere varias piezas de información, como el tiempo hasta el destino, el combustible a la izquierda y el nombre del destino. Comienza por crear una función que creará un informe preciso de la misión:\n",
    "* Función con un informe preciso de la misión. Considera hora de prelanzamiento, tiempo de vuelo, destino, tanque externo y tanque interno"
   ]
  },
  {
   "cell_type": "code",
   "execution_count": 73,
   "metadata": {},
   "outputs": [
    {
     "name": "stdout",
     "output_type": "stream",
     "text": [
      " informe preciso de datos:\n",
      "    hora de prelanzamiento = 12:50 \n",
      "    tiempo de vuelo = 14 horas\n",
      "    destino = Miami\n",
      "    cantidad del tanque externo = 65%\n",
      "    cantidad del tanque interno = 60%\n",
      "    \n"
     ]
    }
   ],
   "source": [
    "def inf_pr(hora_pre, tiempo_vuelo, destino, tanque_ext, tanque_int):\n",
    "        return f\"\"\" informe preciso de datos:\n",
    "    hora de prelanzamiento = {hora_pre} \n",
    "    tiempo de vuelo = {tiempo_vuelo}\n",
    "    destino = {destino}\n",
    "    cantidad del tanque externo = {tanque_ext}%\n",
    "    cantidad del tanque interno = {tanque_int}%\n",
    "    \"\"\"\n",
    "print(inf_pr(\"12:50\", \"14 horas\", \"Miami\", 65, 60))"
   ]
  },
  {
   "cell_type": "markdown",
   "metadata": {},
   "source": [
    "La función es problemática porque no se puede adaptar para minutos adicionales o tanques adicionales de combustible. Hazlo más flexible permitiendo cualquier número de pasos basados en el tiempo y cualquier número de tanques. En lugar de usar *args y **kwargs, aprovecha el hecho de que puedes usar cualquier nombre que desees. Asegurate que la función sea más legible mediante el uso de nombres de variables que están asociados con las entradas, como *minutes y **fuel_reservoirs:"
   ]
  },
  {
   "cell_type": "code",
   "execution_count": 83,
   "metadata": {},
   "outputs": [
    {
     "name": "stdout",
     "output_type": "stream",
     "text": [
      " informe preciso de datos:\n",
      "    Vuelo hacia: Miami \n",
      "    tiempo total de vuelo = 50 minutos\n",
      "    cantidad de tanques de combustible = 77 galones\n",
      "    \n"
     ]
    }
   ],
   "source": [
    "def inf_pr2(destino, *tiempo, **tanques ):\n",
    "        return f\"\"\" informe preciso de datos:\n",
    "    Vuelo hacia: {destino} \n",
    "    tiempo total de vuelo = {sum(tiempo)} minutos\n",
    "    cantidad de tanques de combustible = {sum(tanques.values())} galones\n",
    "    \"\"\"\n",
    "print(inf_pr2(\"Miami\", 20, 30, externo=21, interno=56))"
   ]
  },
  {
   "cell_type": "markdown",
   "metadata": {},
   "source": [
    "Debido a que el combustible que queda en los tanques es específico de cada tanque, actualiza la función para usar el nombre de cada tanque en el informe:"
   ]
  },
  {
   "cell_type": "code",
   "execution_count": 84,
   "metadata": {},
   "outputs": [
    {
     "name": "stdout",
     "output_type": "stream",
     "text": [
      " informe preciso de datos:\n",
      "    Vuelño hacia: Miami \n",
      "    tiempo total de vuelo = 50 minutos\n",
      "    cantidad de tanques de combustible = 77 galones\n",
      "    tanque externo --> 21 galones restantes\n",
      "    tanque interno --> 56 galones restantes\n",
      "    \n"
     ]
    }
   ],
   "source": [
    "def inf_pr3(destino, *tiempo, **tanques ):\n",
    "    informe_main = f\"\"\" informe preciso de datos:\n",
    "    Vuelño hacia: {destino} \n",
    "    tiempo total de vuelo = {sum(tiempo)} minutos\n",
    "    cantidad de tanques de combustible = {sum(tanques.values())} galones\n",
    "    \"\"\"\n",
    "    for tanque, galones in tanques.items():\n",
    "        informe_main += f\"tanque {tanque} --> {galones} galones restantes\\n    \"\n",
    "    return informe_main\n",
    "\n",
    "print(inf_pr3(\"Miami\", 20, 30, externo=21, interno=56))"
   ]
  }
 ],
 "metadata": {
  "interpreter": {
   "hash": "844adb3ca92d1b0ea17ee1e5a8971dcc63de34baaf30e895dc0b1fdfb1efb3e4"
  },
  "kernelspec": {
   "display_name": "Python 3.9.2 64-bit",
   "language": "python",
   "name": "python3"
  },
  "language_info": {
   "codemirror_mode": {
    "name": "ipython",
    "version": 3
   },
   "file_extension": ".py",
   "mimetype": "text/x-python",
   "name": "python",
   "nbconvert_exporter": "python",
   "pygments_lexer": "ipython3",
   "version": "3.9.2"
  },
  "orig_nbformat": 4
 },
 "nbformat": 4,
 "nbformat_minor": 2
}
